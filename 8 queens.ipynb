{
 "cells": [
  {
   "cell_type": "code",
   "execution_count": 1,
   "id": "6db2aad9-04e9-4296-9acd-46819a00c668",
   "metadata": {},
   "outputs": [
    {
     "name": "stdout",
     "output_type": "stream",
     "text": [
      "[[1, 0, 0, 0, 0, 0, 0, 0], [0, 0, 0, 0, 0, 0, 1, 0], [0, 0, 0, 0, 1, 0, 0, 0], [0, 0, 0, 0, 0, 0, 0, 1], [0, 1, 0, 0, 0, 0, 0, 0], [0, 0, 0, 1, 0, 0, 0, 0], [0, 0, 0, 0, 0, 1, 0, 0], [0, 0, 1, 0, 0, 0, 0, 0]]\n"
     ]
    }
   ],
   "source": [
    "N = 8 # (size of the chessboard)\n",
    " \n",
    "def solveNQueens(board, col):\n",
    "    if col == N:\n",
    "        print(board)\n",
    "        return True\n",
    "    for i in range(N):\n",
    "        if isSafe(board, i, col):\n",
    "            board[i][col] = 1\n",
    "            if solveNQueens(board, col + 1):\n",
    "                return True\n",
    "            board[i][col] = 0\n",
    "    return False\n",
    " \n",
    "def isSafe(board, row, col):\n",
    "    for x in range(col):\n",
    "        if board[row][x] == 1:\n",
    "            return False\n",
    "    for x, y in zip(range(row, -1, -1), range(col, -1, -1)):\n",
    "        if board[x][y] == 1:\n",
    "            return False\n",
    "    for x, y in zip(range(row, N, 1), range(col, -1, -1)):\n",
    "        if board[x][y] == 1:\n",
    "            return False\n",
    "    return True\n",
    " \n",
    "board = [[0 for x in range(N)] for y in range(N)]\n",
    "if not solveNQueens(board, 0):\n",
    "    print(\"No solution found\")"
   ]
  },
  {
   "cell_type": "code",
   "execution_count": null,
   "id": "bd1c85b0-d9ca-47be-b7bc-9145da00b3f2",
   "metadata": {},
   "outputs": [],
   "source": []
  }
 ],
 "metadata": {
  "kernelspec": {
   "display_name": "Python 3 (ipykernel)",
   "language": "python",
   "name": "python3"
  },
  "language_info": {
   "codemirror_mode": {
    "name": "ipython",
    "version": 3
   },
   "file_extension": ".py",
   "mimetype": "text/x-python",
   "name": "python",
   "nbconvert_exporter": "python",
   "pygments_lexer": "ipython3",
   "version": "3.12.1"
  }
 },
 "nbformat": 4,
 "nbformat_minor": 5
}
